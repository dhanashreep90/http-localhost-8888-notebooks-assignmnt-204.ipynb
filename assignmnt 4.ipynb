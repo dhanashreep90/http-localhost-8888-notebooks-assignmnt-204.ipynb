{
 "cells": [
  {
   "cell_type": "code",
   "execution_count": 3,
   "id": "510ded38",
   "metadata": {},
   "outputs": [],
   "source": [
    "class area:\n",
    "    def __init__(self,a,b,c):\n",
    "        self.a=a\n",
    "        self.b=b\n",
    "        self.c=c\n",
    "        \n",
    "     \n",
    "    def test (self,a,b,c):\n",
    "        return((a+b+c)/2*(((a+b+c)/2)-a)*(((a+b+c)/2)-b)*(((a+b+c)/2)-c))**0.5"
   ]
  },
  {
   "cell_type": "code",
   "execution_count": 4,
   "id": "734591b4",
   "metadata": {},
   "outputs": [],
   "source": [
    "k=area(12,13,14)"
   ]
  },
  {
   "cell_type": "code",
   "execution_count": 5,
   "id": "7955cb36",
   "metadata": {},
   "outputs": [
    {
     "data": {
      "text/plain": [
       "72.30793524918272"
      ]
     },
     "execution_count": 5,
     "metadata": {},
     "output_type": "execute_result"
    }
   ],
   "source": [
    "k.test(12,13,14)"
   ]
  },
  {
   "cell_type": "code",
   "execution_count": 8,
   "id": "ffc3e7b7",
   "metadata": {},
   "outputs": [],
   "source": [
    "def filter_long_words(inputlist,inputinteger):\n",
    "    listofwords=[]\n",
    "    \n",
    "    for i in range(len(inputlist)):\n",
    "        if len(inputlist[i])> inputinteger:\n",
    "            listofwords.append(inputlist[i])\n",
    "            \n",
    "    return listofwords       "
   ]
  },
  {
   "cell_type": "code",
   "execution_count": 10,
   "id": "3ea10c31",
   "metadata": {},
   "outputs": [
    {
     "name": "stdout",
     "output_type": "stream",
     "text": [
      "['rysrtgbxfgzdd', 'yrsthfghet']\n"
     ]
    }
   ],
   "source": [
    "inputlist=['dfdfd','sfgdghd','rysrtgbxfgzdd','yrsthfghet','dhsd']\n",
    "inputinteger=7\n",
    "\n",
    "print(str(filter_long_words(inputlist,inputinteger)))"
   ]
  },
  {
   "cell_type": "code",
   "execution_count": 11,
   "id": "e0717112",
   "metadata": {},
   "outputs": [],
   "source": [
    "l=['fgdfg','dghdg','gdhg','dghghdgg','fghcghdg']"
   ]
  },
  {
   "cell_type": "code",
   "execution_count": 12,
   "id": "cac6094b",
   "metadata": {},
   "outputs": [
    {
     "data": {
      "text/plain": [
       "[5, 5, 4, 8, 8]"
      ]
     },
     "execution_count": 12,
     "metadata": {},
     "output_type": "execute_result"
    }
   ],
   "source": [
    "list(map(lambda x:len(x),l))"
   ]
  },
  {
   "cell_type": "code",
   "execution_count": 34,
   "id": "216acd9f",
   "metadata": {},
   "outputs": [],
   "source": [
    "def myvowel(alphabet):\n",
    "    vowels = ('a','e','i','o','u')\n",
    "    if alphabet not in vowels :\n",
    "        return False\n",
    "    else:\n",
    "        return True"
   ]
  },
  {
   "cell_type": "code",
   "execution_count": 35,
   "id": "117dbfa3",
   "metadata": {},
   "outputs": [
    {
     "data": {
      "text/plain": [
       "False"
      ]
     },
     "execution_count": 35,
     "metadata": {},
     "output_type": "execute_result"
    }
   ],
   "source": [
    "myvowel('k')"
   ]
  },
  {
   "cell_type": "code",
   "execution_count": 37,
   "id": "5cba278e",
   "metadata": {},
   "outputs": [
    {
     "data": {
      "text/plain": [
       "True"
      ]
     },
     "execution_count": 37,
     "metadata": {},
     "output_type": "execute_result"
    }
   ],
   "source": [
    "myvowel('a')"
   ]
  },
  {
   "cell_type": "code",
   "execution_count": null,
   "id": "b1a16b50",
   "metadata": {},
   "outputs": [],
   "source": []
  }
 ],
 "metadata": {
  "kernelspec": {
   "display_name": "Python 3",
   "language": "python",
   "name": "python3"
  },
  "language_info": {
   "codemirror_mode": {
    "name": "ipython",
    "version": 3
   },
   "file_extension": ".py",
   "mimetype": "text/x-python",
   "name": "python",
   "nbconvert_exporter": "python",
   "pygments_lexer": "ipython3",
   "version": "3.8.8"
  }
 },
 "nbformat": 4,
 "nbformat_minor": 5
}
